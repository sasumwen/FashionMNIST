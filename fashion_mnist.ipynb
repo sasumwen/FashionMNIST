{
  "nbformat": 4,
  "nbformat_minor": 0,
  "metadata": {
    "colab": {
      "provenance": [],
      "authorship_tag": "ABX9TyNH0rTRvaM2qYuUkWGcs0xM",
      "include_colab_link": true
    },
    "kernelspec": {
      "name": "python3",
      "display_name": "Python 3"
    },
    "language_info": {
      "name": "python"
    },
    "accelerator": "TPU",
    "gpuClass": "standard"
  },
  "cells": [
    {
      "cell_type": "markdown",
      "metadata": {
        "id": "view-in-github",
        "colab_type": "text"
      },
      "source": [
        "<a href=\"https://colab.research.google.com/github/sasumwen/FashionMNIST/blob/main/fashion_mnist.ipynb\" target=\"_parent\"><img src=\"https://colab.research.google.com/assets/colab-badge.svg\" alt=\"Open In Colab\"/></a>"
      ]
    },
    {
      "cell_type": "code",
      "execution_count": 1,
      "metadata": {
        "id": "mroR8dztW9cP"
      },
      "outputs": [],
      "source": [
        "import tensorflow as tf\n",
        "import pandas as pd\n",
        "import matplotlib.pyplot as plt\n",
        "import numpy as np\n",
        "import sklearn\n",
        "%matplotlib inline"
      ]
    },
    {
      "cell_type": "code",
      "source": [
        "fashion_mnist = tf.keras.datasets.fashion_mnist\n",
        "(train_images, train_labels), (test_images, test_labels)= fashion_mnist.load_data()"
      ],
      "metadata": {
        "colab": {
          "base_uri": "https://localhost:8080/"
        },
        "id": "usN62lHMXRUW",
        "outputId": "69b1bb0c-a1cc-443d-d62a-48507d3059e9"
      },
      "execution_count": 7,
      "outputs": [
        {
          "output_type": "stream",
          "name": "stdout",
          "text": [
            "Downloading data from https://storage.googleapis.com/tensorflow/tf-keras-datasets/train-labels-idx1-ubyte.gz\n",
            "29515/29515 [==============================] - 0s 0us/step\n",
            "Downloading data from https://storage.googleapis.com/tensorflow/tf-keras-datasets/train-images-idx3-ubyte.gz\n",
            "26421880/26421880 [==============================] - 0s 0us/step\n",
            "Downloading data from https://storage.googleapis.com/tensorflow/tf-keras-datasets/t10k-labels-idx1-ubyte.gz\n",
            "5148/5148 [==============================] - 0s 0us/step\n",
            "Downloading data from https://storage.googleapis.com/tensorflow/tf-keras-datasets/t10k-images-idx3-ubyte.gz\n",
            "4422102/4422102 [==============================] - 0s 0us/step\n"
          ]
        }
      ]
    },
    {
      "cell_type": "code",
      "source": [
        "train_images = train_images / 255.0\n",
        "test_images = test_images / 255.0"
      ],
      "metadata": {
        "id": "Jn_ytEzTbVC9"
      },
      "execution_count": 17,
      "outputs": []
    },
    {
      "cell_type": "code",
      "source": [
        "# Select index\n",
        "index= 84\n",
        "\n",
        "# Set Number of characters per row when printing\n",
        "np.set_printoptions(linewidth=320)\n",
        "\n",
        "# print the label and image\n",
        "print(f'Label: {train_labels[index]}')\n",
        "print(f'\\n Image Pixel Array:\\n {train_images[index]}')\n",
        "\n",
        "# visualize the image\n",
        "plt.imshow(train_images[index], cmap=\"Greys\")"
      ],
      "metadata": {
        "colab": {
          "base_uri": "https://localhost:8080/",
          "height": 866
        },
        "id": "YA8QtulDZ-WM",
        "outputId": "2a3a33d9-8a55-48d4-d8c6-9b419ac62ef6"
      },
      "execution_count": 18,
      "outputs": [
        {
          "output_type": "stream",
          "name": "stdout",
          "text": [
            "Label: 9\n",
            "\n",
            " Image Pixel Array:\n",
            " [[0.         0.         0.         0.         0.         0.         0.         0.         0.         0.         0.         0.         0.         0.         0.         0.         0.         0.         0.         0.         0.         0.         0.         0.         0.         0.         0.         0.        ]\n",
            " [0.         0.         0.         0.         0.         0.         0.         0.         0.         0.         0.         0.         0.         0.         0.         0.         0.         0.         0.         0.         0.         0.         0.         0.         0.         0.         0.         0.        ]\n",
            " [0.         0.         0.         0.         0.         0.         0.         0.         0.         0.         0.         0.         0.         0.01176471 0.01176471 0.00784314 0.00392157 0.         0.         0.         0.         0.         0.0627451  0.43137255 0.59215686 0.75686275 0.32156863 0.        ]\n",
            " [0.         0.         0.         0.         0.         0.         0.         0.         0.         0.         0.00392157 0.         0.         0.         0.         0.         0.         0.01960784 0.         0.         0.19215686 0.78039216 1.         1.         0.81568627 0.85098039 0.61176471 0.        ]\n",
            " [0.         0.         0.         0.         0.         0.         0.         0.         0.         0.         0.         0.         0.         0.22745098 0.5372549  0.31764706 0.         0.         0.         0.61568627 0.94901961 0.90196078 0.86666667 0.85882353 0.83921569 0.89411765 0.5372549  0.        ]\n",
            " [0.         0.         0.         0.         0.         0.         0.         0.         0.         0.         0.01960784 0.         0.16862745 0.75686275 0.81176471 0.87058824 0.64705882 0.         0.78431373 0.95294118 0.86666667 0.89019608 0.9254902  0.9254902  0.88235294 0.92156863 0.37647059 0.        ]\n",
            " [0.         0.         0.         0.         0.         0.         0.         0.         0.         0.         0.02745098 0.         0.17647059 0.90196078 0.85882353 0.81176471 0.89803922 0.83137255 0.92156863 0.86666667 0.96862745 0.9372549  0.92156863 0.89803922 0.8745098  0.92156863 0.41176471 0.        ]\n",
            " [0.         0.         0.         0.         0.         0.         0.         0.         0.         0.00392157 0.00784314 0.         0.0745098  0.8745098  0.91764706 0.91764706 0.90980392 0.83137255 0.77254902 0.84705882 0.93333333 0.89803922 0.91372549 0.90196078 0.8745098  0.91764706 0.45098039 0.        ]\n",
            " [0.         0.         0.         0.         0.         0.         0.         0.         0.         0.         0.01176471 0.         0.08627451 0.87058824 0.89019608 0.91764706 0.94509804 0.78039216 0.83921569 0.85490196 0.93333333 0.9372549  0.90588235 0.91372549 0.86666667 0.91764706 0.50588235 0.        ]\n",
            " [0.         0.         0.         0.         0.         0.         0.         0.         0.         0.         0.00784314 0.         0.0627451  1.         0.8745098  0.90980392 0.94509804 0.82352941 0.84705882 0.8745098  0.91764706 0.9254902  0.90196078 0.91372549 0.87058824 0.91764706 0.51764706 0.        ]\n",
            " [0.         0.         0.         0.         0.         0.         0.         0.         0.         0.         0.00784314 0.         0.04705882 0.99607843 0.85882353 0.8745098  0.91764706 0.78823529 0.78823529 0.84705882 0.89411765 0.9372549  0.90196078 0.91372549 0.85098039 0.91764706 0.5372549  0.        ]\n",
            " [0.         0.         0.         0.         0.         0.         0.         0.         0.         0.         0.01568627 0.         0.03529412 1.         0.8745098  0.8745098  0.90588235 0.81176471 0.82352941 0.8745098  0.89019608 0.93333333 0.89803922 0.91372549 0.85490196 0.90980392 0.61960784 0.        ]\n",
            " [0.         0.         0.         0.         0.         0.         0.         0.         0.         0.         0.01568627 0.         0.         1.         0.90588235 0.92156863 0.94901961 0.79607843 0.83921569 0.90196078 0.90588235 0.92941176 0.89803922 0.90980392 0.85490196 0.90980392 0.56078431 0.        ]\n",
            " [0.         0.         0.         0.         0.         0.         0.         0.         0.         0.         0.         0.         0.         0.84313725 0.92156863 0.84313725 0.89803922 0.79215686 0.87058824 0.85882353 0.84705882 0.93333333 0.90980392 0.89803922 0.84705882 0.91764706 0.49411765 0.        ]\n",
            " [0.         0.         0.         0.         0.         0.         0.         0.         0.         0.         0.         0.00392157 0.         0.24313725 1.         0.83137255 0.87843137 0.77254902 0.84313725 0.84313725 0.85490196 0.94509804 0.90980392 0.89411765 0.85882353 0.91372549 0.71372549 0.        ]\n",
            " [0.         0.         0.         0.         0.         0.         0.         0.         0.         0.00392157 0.         0.         0.         0.76078431 0.97254902 0.88627451 0.89019608 0.86666667 0.84705882 0.83137255 0.8745098  0.9372549  0.89019608 0.89411765 0.88627451 0.89803922 0.90588235 0.        ]\n",
            " [0.         0.         0.         0.         0.         0.01568627 0.01176471 0.         0.         0.         0.         0.04313725 0.44705882 0.94901961 0.93333333 0.98039216 0.91764706 0.89803922 0.83921569 0.85882353 0.89411765 0.90588235 0.89803922 0.89803922 0.89411765 0.89019608 1.         0.02745098]\n",
            " [0.         0.         0.01176471 0.01176471 0.         0.         0.         0.         0.         0.25882353 0.6745098  0.99607843 1.         0.83921569 0.78039216 0.91764706 0.95294118 0.83529412 0.86666667 0.87058824 0.89019608 0.91764706 0.91372549 0.90196078 0.89803922 0.90980392 1.         0.04705882]\n",
            " [0.         0.         0.         0.         0.         0.06666667 0.25098039 0.49803922 0.80392157 1.         0.86666667 0.85098039 0.83137255 0.94901961 0.99215686 0.94901961 0.85882353 0.77254902 0.85882353 0.89803922 0.92156863 0.91764706 0.91372549 0.90980392 0.90980392 0.94117647 0.90980392 0.        ]\n",
            " [0.         0.         0.         0.25098039 0.74509804 0.94509804 1.         0.94117647 0.87058824 0.75686275 0.74509804 0.79215686 0.83529412 0.84705882 0.90196078 0.90980392 0.82745098 0.8        0.87058824 0.89803922 0.92941176 0.94117647 0.9254902  0.92156863 0.90980392 0.95294118 0.79607843 0.        ]\n",
            " [0.         0.31764706 0.83529412 0.70980392 0.75686275 0.71764706 0.6        0.65098039 0.71372549 0.71372549 0.67843137 0.70588235 0.72941176 0.77647059 0.70980392 0.75294118 0.8627451  0.89019608 0.82745098 0.9372549  0.95686275 0.9254902  0.94509804 0.93333333 0.9254902  0.92941176 1.         0.05098039]\n",
            " [0.         0.62745098 0.81568627 0.76862745 0.85882353 0.83529412 0.76470588 0.88627451 0.88235294 0.91372549 0.95686275 0.8745098  0.88627451 0.95294118 0.87843137 0.91764706 0.93333333 0.84705882 0.89803922 0.95686275 0.9254902  0.92941176 0.9254902  0.9254902  0.92941176 0.91764706 1.         0.16862745]\n",
            " [0.         0.79215686 0.80392157 0.81176471 0.81176471 0.8        0.75686275 0.84313725 0.83921569 0.83921569 0.85490196 0.89411765 0.89803922 0.8745098  0.89803922 0.91372549 0.93333333 0.97254902 0.96862745 0.94509804 0.95294118 0.95686275 0.94901961 0.94117647 0.94901961 0.92941176 1.         0.0745098 ]\n",
            " [0.         0.82352941 0.88235294 0.8627451  0.92941176 0.92941176 0.92941176 0.94901961 0.94509804 0.94901961 0.94901961 0.9254902  0.93333333 0.94117647 0.92156863 0.9372549  0.94901961 0.9254902  0.89411765 0.90196078 0.92941176 0.90980392 0.91372549 0.90980392 0.90196078 0.88235294 1.         0.28235294]\n",
            " [0.42352941 0.84705882 0.77254902 0.79607843 0.76078431 0.77647059 0.79607843 0.81176471 0.83529412 0.82352941 0.85098039 0.84705882 0.83921569 0.83529412 0.8627451  0.83137255 0.82352941 0.85490196 0.84705882 0.83921569 0.84705882 0.83921569 0.83921569 0.83137255 0.83921569 0.84705882 0.99607843 0.1372549 ]\n",
            " [0.35686275 1.         0.8745098  1.         1.         1.         1.         0.96470588 0.94509804 0.96078431 0.96862745 0.98823529 1.         0.99607843 1.         1.         1.         1.         1.         1.         1.         1.         1.         0.99607843 0.98039216 0.91764706 1.         0.01568627]\n",
            " [0.         0.05098039 0.22352941 0.38431373 0.4        0.40784314 0.54117647 0.64705882 0.67843137 0.65098039 0.6627451  0.60392157 0.54901961 0.5254902  0.53333333 0.5254902  0.43529412 0.42745098 0.41960784 0.44313725 0.45098039 0.49411765 0.52941176 0.67843137 0.60784314 0.58431373 0.60784314 0.        ]\n",
            " [0.         0.         0.         0.         0.         0.         0.         0.         0.         0.         0.         0.         0.         0.         0.         0.         0.         0.         0.         0.         0.         0.         0.         0.         0.         0.         0.         0.        ]]\n"
          ]
        },
        {
          "output_type": "execute_result",
          "data": {
            "text/plain": [
              "<matplotlib.image.AxesImage at 0x7f4f9c0b2460>"
            ]
          },
          "metadata": {},
          "execution_count": 18
        },
        {
          "output_type": "display_data",
          "data": {
            "text/plain": [
              "<Figure size 432x288 with 1 Axes>"
            ],
            "image/png": "[encoded data removed]"
          },
          "metadata": {
            "needs_background": "light"
          }
        }
      ]
    },
    {
      "cell_type": "code",
      "source": [
        "tf.random.set_seed(84)\n",
        "model = tf.keras.Sequential([\n",
        "    tf.keras.layers.Flatten(input_shape = (28,28)),\n",
        "    tf.keras.layers.Dense(128, activation= \"relu\"),\n",
        "    tf.keras.layers.Dense(10, activation = \"softmax\")\n",
        "])"
      ],
      "metadata": {
        "id": "lNWMsxB1X5j_"
      },
      "execution_count": 23,
      "outputs": []
    },
    {
      "cell_type": "code",
      "source": [
        "tf.random.set_seed(84)\n",
        "cb= tf.keras.callbacks.EarlyStopping(monitor = \"accuracy\", patience = 3)"
      ],
      "metadata": {
        "id": "n4U3b62neFvy"
      },
      "execution_count": 24,
      "outputs": []
    },
    {
      "cell_type": "code",
      "source": [
        "tf.random.set_seed(84)\n",
        "model.compile(loss = tf.keras.losses.sparse_categorical_crossentropy,\n",
        "              optimizer = tf.keras.optimizers.Adam(),\n",
        "              metrics =[\"accuracy\"])"
      ],
      "metadata": {
        "id": "k9r-0aS_YJ4y"
      },
      "execution_count": 25,
      "outputs": []
    },
    {
      "cell_type": "code",
      "source": [
        "model.fit(tf.expand_dims(train_images, -1), train_labels, epochs = 500, callbacks = [cb])"
      ],
      "metadata": {
        "colab": {
          "base_uri": "https://localhost:8080/"
        },
        "id": "5zoBrQJscalb",
        "outputId": "ddae4462-07ee-433d-ef7e-86afb28c8868"
      },
      "execution_count": 26,
      "outputs": [
        {
          "output_type": "stream",
          "name": "stdout",
          "text": [
            "Epoch 1/500\n",
            "1875/1875 [==============================] - 6s 3ms/step - loss: 0.4986 - accuracy: 0.8235\n",
            "Epoch 2/500\n",
            "1875/1875 [==============================] - 5s 3ms/step - loss: 0.3747 - accuracy: 0.8654\n",
            "Epoch 3/500\n",
            "1875/1875 [==============================] - 5s 3ms/step - loss: 0.3376 - accuracy: 0.8763\n",
            "Epoch 4/500\n",
            "1875/1875 [==============================] - 7s 4ms/step - loss: 0.3146 - accuracy: 0.8846\n",
            "Epoch 5/500\n",
            "1875/1875 [==============================] - 5s 3ms/step - loss: 0.2971 - accuracy: 0.8913\n",
            "Epoch 6/500\n",
            "1875/1875 [==============================] - 5s 3ms/step - loss: 0.2831 - accuracy: 0.8955\n",
            "Epoch 7/500\n",
            "1875/1875 [==============================] - 5s 3ms/step - loss: 0.2680 - accuracy: 0.9000\n",
            "Epoch 8/500\n",
            "1875/1875 [==============================] - 5s 3ms/step - loss: 0.2585 - accuracy: 0.9023\n",
            "Epoch 9/500\n",
            "1875/1875 [==============================] - 5s 3ms/step - loss: 0.2481 - accuracy: 0.9068\n",
            "Epoch 10/500\n",
            "1875/1875 [==============================] - 5s 3ms/step - loss: 0.2402 - accuracy: 0.9099\n",
            "Epoch 11/500\n",
            "1875/1875 [==============================] - 5s 3ms/step - loss: 0.2310 - accuracy: 0.9126\n",
            "Epoch 12/500\n",
            "1875/1875 [==============================] - 7s 4ms/step - loss: 0.2231 - accuracy: 0.9169\n",
            "Epoch 13/500\n",
            "1875/1875 [==============================] - 5s 3ms/step - loss: 0.2186 - accuracy: 0.9186\n",
            "Epoch 14/500\n",
            "1875/1875 [==============================] - 5s 3ms/step - loss: 0.2092 - accuracy: 0.9218\n",
            "Epoch 15/500\n",
            "1875/1875 [==============================] - 5s 3ms/step - loss: 0.2040 - accuracy: 0.9244\n",
            "Epoch 16/500\n",
            "1875/1875 [==============================] - 7s 3ms/step - loss: 0.1978 - accuracy: 0.9258\n",
            "Epoch 17/500\n",
            "1875/1875 [==============================] - 5s 3ms/step - loss: 0.1927 - accuracy: 0.9271\n",
            "Epoch 18/500\n",
            "1875/1875 [==============================] - 5s 3ms/step - loss: 0.1891 - accuracy: 0.9288\n",
            "Epoch 19/500\n",
            "1875/1875 [==============================] - 5s 3ms/step - loss: 0.1833 - accuracy: 0.9307\n",
            "Epoch 20/500\n",
            "1875/1875 [==============================] - 5s 3ms/step - loss: 0.1792 - accuracy: 0.9329\n",
            "Epoch 21/500\n",
            "1875/1875 [==============================] - 5s 3ms/step - loss: 0.1718 - accuracy: 0.9360\n",
            "Epoch 22/500\n",
            "1875/1875 [==============================] - 5s 3ms/step - loss: 0.1712 - accuracy: 0.9354\n",
            "Epoch 23/500\n",
            "1875/1875 [==============================] - 5s 3ms/step - loss: 0.1662 - accuracy: 0.9378\n",
            "Epoch 24/500\n",
            "1875/1875 [==============================] - 5s 3ms/step - loss: 0.1625 - accuracy: 0.9389\n",
            "Epoch 25/500\n",
            "1875/1875 [==============================] - 5s 3ms/step - loss: 0.1597 - accuracy: 0.9405\n",
            "Epoch 26/500\n",
            "1875/1875 [==============================] - 7s 4ms/step - loss: 0.1541 - accuracy: 0.9427\n",
            "Epoch 27/500\n",
            "1875/1875 [==============================] - 7s 4ms/step - loss: 0.1515 - accuracy: 0.9431\n",
            "Epoch 28/500\n",
            "1875/1875 [==============================] - 5s 3ms/step - loss: 0.1496 - accuracy: 0.9444\n",
            "Epoch 29/500\n",
            "1875/1875 [==============================] - 5s 3ms/step - loss: 0.1458 - accuracy: 0.9452\n",
            "Epoch 30/500\n",
            "1875/1875 [==============================] - 5s 3ms/step - loss: 0.1428 - accuracy: 0.9470\n",
            "Epoch 31/500\n",
            "1875/1875 [==============================] - 5s 3ms/step - loss: 0.1369 - accuracy: 0.9489\n",
            "Epoch 32/500\n",
            "1875/1875 [==============================] - 5s 3ms/step - loss: 0.1371 - accuracy: 0.9491\n",
            "Epoch 33/500\n",
            "1875/1875 [==============================] - 5s 3ms/step - loss: 0.1327 - accuracy: 0.9493\n",
            "Epoch 34/500\n",
            "1875/1875 [==============================] - 5s 3ms/step - loss: 0.1311 - accuracy: 0.9509\n",
            "Epoch 35/500\n",
            "1875/1875 [==============================] - 5s 3ms/step - loss: 0.1275 - accuracy: 0.9520\n",
            "Epoch 36/500\n",
            "1875/1875 [==============================] - 5s 3ms/step - loss: 0.1260 - accuracy: 0.9529\n",
            "Epoch 37/500\n",
            "1875/1875 [==============================] - 5s 3ms/step - loss: 0.1218 - accuracy: 0.9543\n",
            "Epoch 38/500\n",
            "1875/1875 [==============================] - 5s 3ms/step - loss: 0.1207 - accuracy: 0.9551\n",
            "Epoch 39/500\n",
            "1875/1875 [==============================] - 5s 3ms/step - loss: 0.1184 - accuracy: 0.9550\n",
            "Epoch 40/500\n",
            "1875/1875 [==============================] - 5s 3ms/step - loss: 0.1168 - accuracy: 0.9559\n",
            "Epoch 41/500\n",
            "1875/1875 [==============================] - 5s 3ms/step - loss: 0.1154 - accuracy: 0.9563\n",
            "Epoch 42/500\n",
            "1875/1875 [==============================] - 5s 3ms/step - loss: 0.1130 - accuracy: 0.9570\n",
            "Epoch 43/500\n",
            "1875/1875 [==============================] - 5s 3ms/step - loss: 0.1123 - accuracy: 0.9583\n",
            "Epoch 44/500\n",
            "1875/1875 [==============================] - 5s 3ms/step - loss: 0.1075 - accuracy: 0.9604\n",
            "Epoch 45/500\n",
            "1875/1875 [==============================] - 5s 3ms/step - loss: 0.1073 - accuracy: 0.9596\n",
            "Epoch 46/500\n",
            "1875/1875 [==============================] - 5s 3ms/step - loss: 0.1051 - accuracy: 0.9610\n",
            "Epoch 47/500\n",
            "1875/1875 [==============================] - 6s 3ms/step - loss: 0.1044 - accuracy: 0.9608\n",
            "Epoch 48/500\n",
            "1875/1875 [==============================] - 5s 3ms/step - loss: 0.1022 - accuracy: 0.9612\n",
            "Epoch 49/500\n",
            "1875/1875 [==============================] - 5s 3ms/step - loss: 0.0977 - accuracy: 0.9631\n",
            "Epoch 50/500\n",
            "1875/1875 [==============================] - 5s 3ms/step - loss: 0.0982 - accuracy: 0.9636\n",
            "Epoch 51/500\n",
            "1875/1875 [==============================] - 5s 3ms/step - loss: 0.0970 - accuracy: 0.9639\n",
            "Epoch 52/500\n",
            "1875/1875 [==============================] - 5s 3ms/step - loss: 0.0938 - accuracy: 0.9648\n",
            "Epoch 53/500\n",
            "1875/1875 [==============================] - 5s 3ms/step - loss: 0.0934 - accuracy: 0.9649\n",
            "Epoch 54/500\n",
            "1875/1875 [==============================] - 5s 3ms/step - loss: 0.0921 - accuracy: 0.9661\n",
            "Epoch 55/500\n",
            "1875/1875 [==============================] - 5s 3ms/step - loss: 0.0909 - accuracy: 0.9658\n",
            "Epoch 56/500\n",
            "1875/1875 [==============================] - 5s 3ms/step - loss: 0.0894 - accuracy: 0.9666\n",
            "Epoch 57/500\n",
            "1875/1875 [==============================] - 5s 3ms/step - loss: 0.0898 - accuracy: 0.9671\n",
            "Epoch 58/500\n",
            "1875/1875 [==============================] - 5s 3ms/step - loss: 0.0856 - accuracy: 0.9685\n",
            "Epoch 59/500\n",
            "1875/1875 [==============================] - 5s 3ms/step - loss: 0.0842 - accuracy: 0.9680\n",
            "Epoch 60/500\n",
            "1875/1875 [==============================] - 5s 3ms/step - loss: 0.0856 - accuracy: 0.9680\n",
            "Epoch 61/500\n",
            "1875/1875 [==============================] - 5s 3ms/step - loss: 0.0840 - accuracy: 0.9688\n",
            "Epoch 62/500\n",
            "1875/1875 [==============================] - 5s 3ms/step - loss: 0.0808 - accuracy: 0.9692\n",
            "Epoch 63/500\n",
            "1875/1875 [==============================] - 5s 3ms/step - loss: 0.0805 - accuracy: 0.9704\n",
            "Epoch 64/500\n",
            "1875/1875 [==============================] - 5s 3ms/step - loss: 0.0816 - accuracy: 0.9693\n",
            "Epoch 65/500\n",
            "1875/1875 [==============================] - 5s 3ms/step - loss: 0.0800 - accuracy: 0.9692\n",
            "Epoch 66/500\n",
            "1875/1875 [==============================] - 5s 3ms/step - loss: 0.0757 - accuracy: 0.9723\n",
            "Epoch 67/500\n",
            "1875/1875 [==============================] - 5s 3ms/step - loss: 0.0770 - accuracy: 0.9715\n",
            "Epoch 68/500\n",
            "1875/1875 [==============================] - 5s 3ms/step - loss: 0.0745 - accuracy: 0.9722\n",
            "Epoch 69/500\n",
            "1875/1875 [==============================] - 5s 3ms/step - loss: 0.0743 - accuracy: 0.9718\n"
          ]
        },
        {
          "output_type": "execute_result",
          "data": {
            "text/plain": [
              "<keras.callbacks.History at 0x7f4f96347820>"
            ]
          },
          "metadata": {},
          "execution_count": 26
        }
      ]
    },
    {
      "cell_type": "code",
      "source": [
        "# evaluate on test\n",
        "model.evaluate(test_images, test_labels)"
      ],
      "metadata": {
        "colab": {
          "base_uri": "https://localhost:8080/"
        },
        "id": "8oWfAa5Fczun",
        "outputId": "e6d979d9-ecfe-4448-aa55-ab6fd59fd33e"
      },
      "execution_count": 27,
      "outputs": [
        {
          "output_type": "stream",
          "name": "stdout",
          "text": [
            "313/313 [==============================] - 1s 2ms/step - loss: 0.6255 - accuracy: 0.8872\n"
          ]
        },
        {
          "output_type": "execute_result",
          "data": {
            "text/plain": [
              "[0.6255062222480774, 0.8871999979019165]"
            ]
          },
          "metadata": {},
          "execution_count": 27
        }
      ]
    },
    {
      "cell_type": "code",
      "source": [
        "clf = tf.squeeze(model.predict(test_images))"
      ],
      "metadata": {
        "colab": {
          "base_uri": "https://localhost:8080/"
        },
        "id": "1oA3hOXxg-Cg",
        "outputId": "e6e4f9df-72d8-447d-f6ca-7abaadcddf98"
      },
      "execution_count": 32,
      "outputs": [
        {
          "output_type": "stream",
          "name": "stdout",
          "text": [
            "313/313 [==============================] - 1s 3ms/step\n"
          ]
        }
      ]
    },
    {
      "cell_type": "code",
      "source": [
        "print(clf[0])"
      ],
      "metadata": {
        "colab": {
          "base_uri": "https://localhost:8080/"
        },
        "id": "ahQHEHIIjJcz",
        "outputId": "ebe51099-11dc-4007-bdab-6c4db11a2e13"
      },
      "execution_count": 33,
      "outputs": [
        {
          "output_type": "stream",
          "name": "stdout",
          "text": [
            "tf.Tensor([9.6435003e-24 4.9729081e-28 3.1732106e-21 2.2414528e-24 7.9926545e-35 7.0507158e-14 4.3130339e-33 4.4754986e-10 2.7430818e-24 9.9999994e-01], shape=(10,), dtype=float32)\n"
          ]
        }
      ]
    },
    {
      "cell_type": "code",
      "source": [
        "print(test_labels[0])"
      ],
      "metadata": {
        "colab": {
          "base_uri": "https://localhost:8080/"
        },
        "id": "dgL7FqALjOzQ",
        "outputId": "06a60d42-a1eb-437a-b35c-b312a4681dc2"
      },
      "execution_count": 31,
      "outputs": [
        {
          "output_type": "stream",
          "name": "stdout",
          "text": [
            "9\n"
          ]
        }
      ]
    },
    {
      "cell_type": "code",
      "source": [],
      "metadata": {
        "id": "8hmy_GZtjpvS"
      },
      "execution_count": null,
      "outputs": []
    }
  ]
}